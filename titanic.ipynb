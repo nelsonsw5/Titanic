{
 "cells": [
  {
   "cell_type": "code",
   "execution_count": 1,
   "metadata": {},
   "outputs": [],
   "source": [
    "import pandas as pd\n",
    "import csv\n",
    "import xgboost as xgb\n",
    "from sklearn.metrics import mean_squared_error\n",
    "import numpy as np\n",
    "from sklearn.model_selection import train_test_split\n",
    "from sklearn.neural_network import MLPClassifier\n",
    "from sklearn.tree import DecisionTreeClassifier"
   ]
  },
  {
   "cell_type": "code",
   "execution_count": 2,
   "id": "43200a93",
   "metadata": {},
   "outputs": [
    {
     "name": "stdout",
     "output_type": "stream",
     "text": [
      "     Pclass     Sex   Age  SibSp  Parch     Fare Embarked  Survived\n",
      "0         3    male  22.0      1      0   7.2500        S         0\n",
      "1         1  female  38.0      1      0  71.2833        C         1\n",
      "2         3  female  26.0      0      0   7.9250        S         1\n",
      "3         1  female  35.0      1      0  53.1000        S         1\n",
      "4         3    male  35.0      0      0   8.0500        S         0\n",
      "..      ...     ...   ...    ...    ...      ...      ...       ...\n",
      "886       2    male  27.0      0      0  13.0000        S         0\n",
      "887       1  female  19.0      0      0  30.0000        S         1\n",
      "888       3  female   NaN      1      2  23.4500        S         0\n",
      "889       1    male  26.0      0      0  30.0000        C         1\n",
      "890       3    male  32.0      0      0   7.7500        Q         0\n",
      "\n",
      "[891 rows x 8 columns]\n"
     ]
    }
   ],
   "source": [
    "# reading the CSV file\n",
    "passengers = pd.read_csv('train.csv')\n",
    " \n",
    "# displaying the contents of the CSV file\n",
    "# print(passengers.columns)\n",
    "passengers = passengers[['PassengerId', 'Pclass', \n",
    "'Name', 'Sex', 'Age', 'SibSp','Parch', 'Ticket', \n",
    "'Fare', 'Cabin', 'Embarked','Survived']]\n",
    "\n",
    "passengers = passengers.drop(columns=['PassengerId','Name', 'Ticket','Cabin'])\n",
    "\n",
    "print(passengers)"
   ]
  },
  {
   "cell_type": "code",
   "execution_count": 4,
   "id": "bf2419f5",
   "metadata": {},
   "outputs": [
    {
     "name": "stdout",
     "output_type": "stream",
     "text": [
      "29.69911764705882\n"
     ]
    },
    {
     "name": "stderr",
     "output_type": "stream",
     "text": [
      "/var/folders/bj/xb0vw9_96cx1kj56y4l_zzww0000gn/T/ipykernel_25348/2521894574.py:10: SettingWithCopyWarning: \n",
      "A value is trying to be set on a copy of a slice from a DataFrame\n",
      "\n",
      "See the caveats in the documentation: https://pandas.pydata.org/pandas-docs/stable/user_guide/indexing.html#returning-a-view-versus-a-copy\n",
      "  X_train['Age'][i] = np.mean(X_train['Age'])\n"
     ]
    },
    {
     "data": {
      "text/plain": [
       "0      22.000000\n",
       "1      38.000000\n",
       "2      26.000000\n",
       "3      35.000000\n",
       "4      35.000000\n",
       "         ...    \n",
       "886    27.000000\n",
       "887    19.000000\n",
       "888    29.699118\n",
       "889    26.000000\n",
       "890    32.000000\n",
       "Name: Age, Length: 891, dtype: float64"
      ]
     },
     "execution_count": 4,
     "metadata": {},
     "output_type": "execute_result"
    }
   ],
   "source": [
    "X_train = passengers.iloc[:,0:-1]\n",
    "y_train = passengers.iloc[:,-1]\n",
    "categorical_cols = ['Sex','Pclass','Embarked']\n",
    "#import pandas as pd\n",
    "X_train = pd.get_dummies(X_train, columns = categorical_cols)\n",
    "print(np.mean(X_train['Age']))\n",
    "\n",
    "for i in range(len(X_train['Age'])):\n",
    "    if np.isnan(X_train['Age'][i]):\n",
    "        X_train['Age'][i] = np.mean(X_train['Age'])\n",
    "X_train['Age']\n",
    "        "
   ]
  },
  {
   "cell_type": "code",
   "execution_count": 5,
   "id": "cc10afe6",
   "metadata": {},
   "outputs": [
    {
     "name": "stdout",
     "output_type": "stream",
     "text": [
      "[13:53:02] WARNING: /Users/runner/work/xgboost/xgboost/python-package/build/temp.macosx-10.9-x86_64-cpython-37/xgboost/src/objective/regression_obj.cu:203: reg:linear is now deprecated in favor of reg:squarederror.\n"
     ]
    },
    {
     "data": {
      "text/plain": [
       "0.7295173961840629"
      ]
     },
     "execution_count": 5,
     "metadata": {},
     "output_type": "execute_result"
    }
   ],
   "source": [
    "xg_class = xgb.XGBClassifier(objective ='reg:linear', colsample_bytree = 0.2, learning_rate = 0.0000007,\n",
    "                max_depth = 5, alpha = 10, n_estimators = 10)\n",
    "xg_class.fit(X_train,y_train)\n",
    "\n",
    "preds_train = xg_class.predict(X_train)\n",
    "sum(preds_train == y_train) / len(y_train)"
   ]
  },
  {
   "cell_type": "code",
   "execution_count": 17,
   "id": "b1c22561",
   "metadata": {},
   "outputs": [
    {
     "name": "stdout",
     "output_type": "stream",
     "text": [
      "80.58 %\n"
     ]
    }
   ],
   "source": [
    "mlp_class = MLPClassifier( learning_rate='adaptive', max_iter=1000, hidden_layer_sizes=(64, 64))\n",
    "mlp_class.fit(X_train,y_train)\n",
    "print(round(mlp_class.score(X_train,y_train) * 100,2), '%')\n"
   ]
  },
  {
   "cell_type": "code",
   "execution_count": 7,
   "id": "dc76de4e",
   "metadata": {},
   "outputs": [
    {
     "name": "stderr",
     "output_type": "stream",
     "text": [
      "/var/folders/bj/xb0vw9_96cx1kj56y4l_zzww0000gn/T/ipykernel_25348/581079917.py:11: SettingWithCopyWarning: \n",
      "A value is trying to be set on a copy of a slice from a DataFrame\n",
      "\n",
      "See the caveats in the documentation: https://pandas.pydata.org/pandas-docs/stable/user_guide/indexing.html#returning-a-view-versus-a-copy\n",
      "  test['Age'][i] = np.mean(test['Age'])\n",
      "/var/folders/bj/xb0vw9_96cx1kj56y4l_zzww0000gn/T/ipykernel_25348/581079917.py:13: SettingWithCopyWarning: \n",
      "A value is trying to be set on a copy of a slice from a DataFrame\n",
      "\n",
      "See the caveats in the documentation: https://pandas.pydata.org/pandas-docs/stable/user_guide/indexing.html#returning-a-view-versus-a-copy\n",
      "  test['Fare'][i] = np.mean(test['Fare'])\n"
     ]
    }
   ],
   "source": [
    "#### TEST SET\n",
    "# reading the CSV file\n",
    "test = pd.read_csv('test.csv')\n",
    "pID = test.iloc[:,0]\n",
    "test = test.drop(columns=['PassengerId', 'Name', 'Ticket','Cabin'])\n",
    "test = pd.get_dummies(test, columns = categorical_cols)\n",
    "# print(test.info)\n",
    "\n",
    "for i in range(len(test['Age'])):\n",
    "    if np.isnan(test['Age'][i]):\n",
    "        test['Age'][i] = np.mean(test['Age'])\n",
    "    if np.isnan(test['Fare'][i]):\n",
    "        test['Fare'][i] = np.mean(test['Fare'])\n",
    "\n",
    "\n",
    "preds_test = mlp_class.predict(test)\n"
   ]
  },
  {
   "cell_type": "code",
   "execution_count": 8,
   "id": "740aeb7b",
   "metadata": {},
   "outputs": [],
   "source": [
    "submission = np.column_stack((np.array(pID), np.array(preds_test)))\n",
    "submission = np.row_stack((['PassengerId','Survived'],submission))\n",
    "with open('submission.csv', 'w', encoding='UTF8') as f:\n",
    "    writer = csv.writer(f)\n",
    "    for i in range(len(submission)):\n",
    "        writer.writerow(submission[i])\n",
    "\n",
    "\n"
   ]
  },
  {
   "cell_type": "code",
   "execution_count": 9,
   "id": "e3b0fe3f",
   "metadata": {},
   "outputs": [],
   "source": [
    "DTC = DecisionTreeClassifier()\n",
    "DTC.fit(X_train,y_train)\n",
    "DTC.score(X_train,y_train)\n",
    "preds_test = DTC.predict(test)"
   ]
  },
  {
   "cell_type": "code",
   "execution_count": 10,
   "id": "4fffe696",
   "metadata": {},
   "outputs": [
    {
     "name": "stdout",
     "output_type": "stream",
     "text": [
      "preds_test:  [0 0 1 1 1 0 0 0 1 0 0 0 1 0 1 1 0 1 1 0 1 1 1 1 1 0 1 1 1 0 0 0 1 0 1 1 0\n",
      " 0 0 1 1 0 0 1 1 0 1 0 1 1 0 0 1 0 1 0 0 0 0 1 0 0 0 1 0 1 1 0 0 1 1 0 0 0\n",
      " 1 0 0 1 0 1 1 0 0 0 0 0 1 1 0 1 1 0 0 0 0 0 1 1 1 1 1 0 0 0 1 0 0 0 1 0 0\n",
      " 0 1 1 1 0 0 1 0 1 1 0 1 1 0 1 0 0 0 0 1 0 0 0 0 0 0 0 0 0 0 1 1 0 0 0 0 0\n",
      " 0 0 1 0 0 1 0 0 1 0 0 0 0 1 1 0 0 1 0 0 1 0 0 0 0 0 0 1 1 1 1 1 0 1 1 0 1\n",
      " 0 1 0 0 0 0 0 1 1 1 0 1 0 0 0 0 1 0 1 0 0 0 0 1 0 0 0 0 0 0 0 0 0 1 0 1 0\n",
      " 1 1 1 0 0 0 0 0 0 1 0 0 1 0 1 1 1 1 1 1 1 0 0 0 1 0 1 0 1 0 0 0 0 0 0 0 1\n",
      " 0 0 0 1 1 0 0 0 0 0 0 0 0 1 0 0 1 0 0 0 0 0 1 0 0 0 0 0 0 0 0 0 0 0 0 0 0\n",
      " 1 0 0 0 0 0 0 0 0 1 0 1 0 0 0 1 0 0 1 1 1 0 1 0 0 0 0 1 1 0 1 0 0 0 1 1 0\n",
      " 1 0 0 0 0 0 0 0 0 0 1 0 1 0 0 0 1 1 0 0 0 0 0 1 0 0 1 0 1 1 1 1 1 0 1 1 1\n",
      " 0 1 0 0 1 1 0 0 0 1 0 0 1 1 0 1 0 0 0 0 0 1 1 0 0 1 0 1 0 0 1 0 1 0 0 1 0\n",
      " 0 0 1 0 1 0 0 1 0 0 0]\n"
     ]
    }
   ],
   "source": [
    "print(\"preds_test: \", preds_test)"
   ]
  },
  {
   "cell_type": "code",
   "execution_count": null,
   "id": "dcbb7f22",
   "metadata": {},
   "outputs": [],
   "source": []
  }
 ],
 "metadata": {
  "kernelspec": {
   "display_name": "Python 3.10.4 ('titanic')",
   "language": "python",
   "name": "python3"
  },
  "language_info": {
   "codemirror_mode": {
    "name": "ipython",
    "version": 3
   },
   "file_extension": ".py",
   "mimetype": "text/x-python",
   "name": "python",
   "nbconvert_exporter": "python",
   "pygments_lexer": "ipython3",
   "version": "3.10.4"
  },
  "vscode": {
   "interpreter": {
    "hash": "2dfbae9a87db7b2dc2578fe0d33f792a230924ef51e8a44dcc5b66c5d8b5b67e"
   }
  }
 },
 "nbformat": 4,
 "nbformat_minor": 5
}
