{
 "cells": [
  {
   "cell_type": "code",
   "execution_count": 10,
   "metadata": {},
   "outputs": [],
   "source": [
    "import pandas as pd\n",
    "import csv\n",
    "import xgboost as xgb\n",
    "from sklearn.metrics import mean_squared_error\n",
    "import numpy as np\n",
    "from sklearn.model_selection import train_test_split\n",
    "from sklearn.neural_network import MLPClassifier\n",
    "from sklearn.tree import DecisionTreeClassifier\n",
    "import warnings\n",
    "warnings.filterwarnings(\"ignore\")"
   ]
  },
  {
   "cell_type": "code",
   "execution_count": 11,
   "id": "43200a93",
   "metadata": {},
   "outputs": [],
   "source": [
    "# reading the CSV file\n",
    "passengers = pd.read_csv('train.csv')\n",
    " \n",
    "# displaying the contents of the CSV file\n",
    "# print(passengers.columns)\n",
    "passengers = passengers[['PassengerId', 'Pclass', \n",
    "'Name', 'Sex', 'Age', 'SibSp','Parch', 'Ticket', \n",
    "'Fare', 'Cabin', 'Embarked','Survived']]\n",
    "\n",
    "passengers = passengers.drop(columns=['PassengerId','Name', 'Ticket','Cabin'])\n",
    "\n",
    "# print(passengers)"
   ]
  },
  {
   "cell_type": "code",
   "execution_count": 12,
   "id": "bf2419f5",
   "metadata": {},
   "outputs": [],
   "source": [
    "X_train = passengers.iloc[:,0:-1]\n",
    "y_train = passengers.iloc[:,-1]\n",
    "categorical_cols = ['Sex','Pclass','Embarked']\n",
    "#import pandas as pd\n",
    "X_train = pd.get_dummies(X_train, columns = categorical_cols)\n",
    "# print(np.mean(X_train['Age']))\n",
    "\n",
    "for i in range(len(X_train['Age'])):\n",
    "    if np.isnan(X_train['Age'][i]):\n",
    "        X_train['Age'][i] = np.mean(X_train['Age'])\n",
    "        "
   ]
  },
  {
   "cell_type": "code",
   "execution_count": 13,
   "id": "cc10afe6",
   "metadata": {},
   "outputs": [
    {
     "name": "stdout",
     "output_type": "stream",
     "text": [
      "[08:14:29] WARNING: /Users/runner/work/xgboost/xgboost/python-package/build/temp.macosx-10.9-x86_64-cpython-37/xgboost/src/objective/regression_obj.cu:203: reg:linear is now deprecated in favor of reg:squarederror.\n"
     ]
    },
    {
     "data": {
      "text/plain": [
       "0.7295173961840629"
      ]
     },
     "execution_count": 13,
     "metadata": {},
     "output_type": "execute_result"
    }
   ],
   "source": [
    "xg_class = xgb.XGBClassifier(objective ='reg:linear', colsample_bytree = 0.2, learning_rate = 0.0000007,\n",
    "                max_depth = 5, alpha = 10, n_estimators = 10)\n",
    "xg_class.fit(X_train,y_train)\n",
    "\n",
    "preds_train = xg_class.predict(X_train)\n",
    "sum(preds_train == y_train) / len(y_train)"
   ]
  },
  {
   "cell_type": "code",
   "execution_count": 14,
   "id": "b1c22561",
   "metadata": {},
   "outputs": [
    {
     "name": "stdout",
     "output_type": "stream",
     "text": [
      "MLP Classifier Score:  82.6 %\n"
     ]
    }
   ],
   "source": [
    "mlp_class = MLPClassifier( learning_rate='adaptive', max_iter=1000, hidden_layer_sizes=(64, 64))\n",
    "mlp_class.fit(X_train,y_train)\n",
    "print(\"MLP Classifier Score: \",round(mlp_class.score(X_train,y_train) * 100,2), '%')"
   ]
  },
  {
   "cell_type": "code",
   "execution_count": 15,
   "id": "dc76de4e",
   "metadata": {},
   "outputs": [],
   "source": [
    "#### TEST SET\n",
    "# reading the CSV file\n",
    "test = pd.read_csv('test.csv')\n",
    "pID = test.iloc[:,0]\n",
    "test = test.drop(columns=['PassengerId', 'Name', 'Ticket','Cabin'])\n",
    "test = pd.get_dummies(test, columns = categorical_cols)\n",
    "# print(test.info)\n",
    "\n",
    "for i in range(len(test['Age'])):\n",
    "    if np.isnan(test['Age'][i]):\n",
    "        test['Age'][i] = np.mean(test['Age'])\n",
    "    if np.isnan(test['Fare'][i]):\n",
    "        test['Fare'][i] = np.mean(test['Fare'])\n",
    "\n",
    "\n",
    "preds_test = mlp_class.predict(test)\n"
   ]
  },
  {
   "cell_type": "code",
   "execution_count": 16,
   "id": "740aeb7b",
   "metadata": {},
   "outputs": [],
   "source": [
    "submission = np.column_stack((np.array(pID), np.array(preds_test)))\n",
    "submission = np.row_stack((['PassengerId','Survived'],submission))\n",
    "with open('submission.csv', 'w', encoding='UTF8') as f:\n",
    "    writer = csv.writer(f)\n",
    "    for i in range(len(submission)):\n",
    "        writer.writerow(submission[i])\n",
    "\n",
    "\n"
   ]
  },
  {
   "cell_type": "code",
   "execution_count": 17,
   "id": "e3b0fe3f",
   "metadata": {},
   "outputs": [],
   "source": [
    "DTC = DecisionTreeClassifier()\n",
    "DTC.fit(X_train,y_train)\n",
    "DTC.score(X_train,y_train)\n",
    "preds_test = DTC.predict(test)"
   ]
  }
 ],
 "metadata": {
  "kernelspec": {
   "display_name": "Python 3.10.4 ('titanic')",
   "language": "python",
   "name": "python3"
  },
  "language_info": {
   "codemirror_mode": {
    "name": "ipython",
    "version": 3
   },
   "file_extension": ".py",
   "mimetype": "text/x-python",
   "name": "python",
   "nbconvert_exporter": "python",
   "pygments_lexer": "ipython3",
   "version": "3.10.4"
  },
  "vscode": {
   "interpreter": {
    "hash": "2dfbae9a87db7b2dc2578fe0d33f792a230924ef51e8a44dcc5b66c5d8b5b67e"
   }
  }
 },
 "nbformat": 4,
 "nbformat_minor": 5
}
